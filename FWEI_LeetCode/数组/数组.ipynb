{
 "cells": [
  {
   "cell_type": "code",
   "execution_count": 1,
   "metadata": {},
   "outputs": [
    {
     "data": {
      "text/plain": [
       "4"
      ]
     },
     "execution_count": 1,
     "metadata": {},
     "output_type": "execute_result"
    }
   ],
   "source": [
    "## 26. Remove Duplicates from Sorted Array题目描述：给定一个排序数组，移除数组中重复的元素，空间复杂度要求为O(1)\n",
    "##题目描述：给定一个排序数组，移除数组中重复的元素，空间复杂度要求为O(1)\n",
    "class Solution(object):\n",
    "    def removeDuplicates(self, nums):\n",
    "        \"\"\"\n",
    "        :type nums: List[int]\n",
    "        :rtype: int\n",
    "        \"\"\"\n",
    "        #此题因为不允许开辟额外空间，所以不推荐使用删除重复元素。而选择将不重复元素放在原列表开头，返回新列表长度，截取原列表即可。\n",
    "        if len(nums) == 0:\n",
    "            return 0\n",
    "        j = 0\n",
    "        len_n = len(nums)\n",
    "        for i in range(len_n):\n",
    "            if nums[j] != nums[i]:\n",
    "                nums[j + 1] = nums[i]\n",
    "                j += 1\n",
    "        return j + 1\n",
    "nums = [1,1,3,4,5,5]\n",
    "init = Solution()\n",
    "init.removeDuplicates(nums)"
   ]
  },
  {
   "cell_type": "code",
   "execution_count": 2,
   "metadata": {},
   "outputs": [
    {
     "data": {
      "text/plain": [
       "5"
      ]
     },
     "execution_count": 2,
     "metadata": {},
     "output_type": "execute_result"
    }
   ],
   "source": [
    "# 80. Remove Duplicates from Sorted Array II \n",
    "#题目描述：与Remove Duplicates from Sorted Array基本是一样的，只不过这里允许最多重复的数字为2\n",
    "# 给定一个排序数组，你需要在原地删除重复出现的元素，使得每个元素最多出现两次，返回移除后数组的新长度。\n",
    "\n",
    "# 不要使用额外的数组空间，你必须在原地修改输入数组并在使用 O(1) 额外空间的条件下完成。\n",
    "\n",
    "# 示例 1:\n",
    "\n",
    "# 给定 nums = [1,1,1,2,2,3],\n",
    "\n",
    "# 函数应返回新长度 length = 5, 并且原数组的前五个元素被修改为 1, 1, 2, 2, 3 。\n",
    "\n",
    "# 你不需要考虑数组中超出新长度后面的元素。\n",
    "\n",
    "class Solution(object):\n",
    "    def removeDuplicates(self, nums):\n",
    "        if nums == []:\n",
    "            return 0\n",
    "        if len(nums) <= 2:\n",
    "            return len(nums)\n",
    "        i = 2\n",
    "        while i < len(nums):           \n",
    "            if nums[i] == nums[i-1] == nums[i-2]:\n",
    "                nums.pop(i)\n",
    "            else:\n",
    "                i += 1\n",
    "        return i\n",
    "init = Solution()\n",
    "nums = [1,1,2,2,2,3]\n",
    "init.removeDuplicates(nums)"
   ]
  },
  {
   "cell_type": "code",
   "execution_count": 11,
   "metadata": {},
   "outputs": [
    {
     "name": "stdout",
     "output_type": "stream",
     "text": [
      "r : 3\n"
     ]
    },
    {
     "data": {
      "text/plain": [
       "1"
      ]
     },
     "execution_count": 11,
     "metadata": {},
     "output_type": "execute_result"
    }
   ],
   "source": [
    "#DAY02-补--2019-9-19\n",
    "#33-Search in Rotated Sorted Array\n",
    "#二分搜索法的关键在于获得了中间数后，判断下面要搜索左半段还是右半段，\n",
    "#如果中间的数小于最右边的数，则右半段是有序的，若中间数大于最右边数，\n",
    "#则左半段是有序的，我们只要在有序的半段里用首尾两个数组来判断目标值是否在这一区域内，这样就可以确定保留哪半边了。\n",
    "class Solution:\n",
    "    def search(self, nums,target):\n",
    "        \n",
    "        l , r = 0,len(nums) - 1\n",
    "        while l <= r:\n",
    "            mid = (l + r)//2\n",
    "            if nums[mid] == target:\n",
    "                return mid\n",
    "            if nums[mid] >= nums[l]:\n",
    "                if target >= nums[l] and target <= nums[mid]:\n",
    "                    \n",
    "                    r = mid\n",
    "                    print(\"r :\",r)\n",
    "                else:\n",
    "                    l = mid + 1\n",
    "            if nums[mid] <= nums[r]:\n",
    "                if target >= nums[mid] and target <= nums[r]:\n",
    "                    l = mid + 1\n",
    "                else:\n",
    "                    r = mid\n",
    "        return -1\n",
    "init = Solution()\n",
    "nums1 = [0,1,2,4,5,6,7]\n",
    "nums = [4,5,6,7,0,1,2]\n",
    "target = 1\n",
    "init.search(nums1,target)"
   ]
  },
  {
   "cell_type": "markdown",
   "metadata": {},
   "source": [
    "#81-Search in Rotated Sorted Array II\n",
    "假设按照升序排序的数组在预先未知的某个点上进行了旋转。\n",
    "( 例如，数组 [0,0,1,2,2,5,6] 可能变为 [2,5,6,0,0,1,2] )。\n",
    "编写一个函数来判断给定的目标值是否存在于数组中。若存在返回 true，否则返回 false。\n",
    "\n"
   ]
  },
  {
   "cell_type": "code",
   "execution_count": 17,
   "metadata": {},
   "outputs": [
    {
     "data": {
      "text/plain": [
       "True"
      ]
     },
     "execution_count": 17,
     "metadata": {},
     "output_type": "execute_result"
    }
   ],
   "source": [
    "class Solution:\n",
    "     def search(self, nums, target):\n",
    "        start = 0\n",
    "        end = len(nums) - 1\n",
    "        while start <= end:\n",
    "            mid = (start + end)//2\n",
    "            if target == nums[mid]:\n",
    "                return True\n",
    "            # 递增的情况\n",
    "            elif nums[mid] < target <= nums[end]:\n",
    "                start = start + 1\n",
    "            elif nums[start] <= target < nums[mid]:\n",
    "                end = end -1\n",
    "            # 先增后减或先减后增的情况\n",
    "            elif target > nums[mid]:\n",
    "                end = end - 1\n",
    "            elif target < nums[mid]:\n",
    "                start = start + 1\n",
    "        return False\n",
    "nums = [2,5,6,0,0,1,2]\n",
    "target = 0\n",
    "init = Solution()\n",
    "init.search(nums,target)"
   ]
  },
  {
   "cell_type": "markdown",
   "metadata": {},
   "source": [
    "#day3-2019-9-20补\n",
    "#4.Median of Two Sorted Arrays\n",
    "题目：有两个排序的数组nums1和nums2，长度分别为m和n。找到两个排序数组的中位数。总运行时间复杂度应为O（log（m + n））。可以假设nums1和nums2  不能都为空。\n",
    "例：nums1 = [1,3] nums2 = [2]  中位数是2.0；nums1 = [1,2]  nums2 = [3,4]  中位数为（2 + 3）/ 2 = 2.5"
   ]
  },
  {
   "cell_type": "code",
   "execution_count": 4,
   "metadata": {},
   "outputs": [
    {
     "data": {
      "text/plain": [
       "2.5"
      ]
     },
     "execution_count": 4,
     "metadata": {},
     "output_type": "execute_result"
    }
   ],
   "source": [
    "class Solution:\n",
    "    def findMedianSortedArrays(self, nums1, nums2):\n",
    "        m,n=len(nums1),len(nums2)\n",
    "        list_merge=sorted(nums1+nums2)\n",
    "        median_i=int((m+n)/2)\n",
    "        if (m+n)%2==0:\n",
    "             return (list_merge[median_i-1]+list_merge[median_i])/2\n",
    "        else:\n",
    "             return float(list_merge[median_i])\n",
    "init = Solution()\n",
    "nums1 = [1,3]\n",
    "nums2 = [2,4]\n",
    "init.findMedianSortedArrays(nums1,nums2)"
   ]
  },
  {
   "cell_type": "markdown",
   "metadata": {},
   "source": [
    "#128-Longest Consecutive Sequence\n",
    "给定一组无序的整数，找出其中连续整数的最长长度。 \n",
    "(1)\n",
    "注意点： 算法时间复杂度为O(n)\n"
   ]
  },
  {
   "cell_type": "code",
   "execution_count": 16,
   "metadata": {},
   "outputs": [
    {
     "name": "stdout",
     "output_type": "stream",
     "text": [
      "{1, 3, 100, 4, 200}\n",
      "{1, 100, 4, 200}\n",
      "{1, 100, 200}\n",
      "{1, 100, 200}\n",
      "{1, 100, 200}\n",
      "{100, 200}\n"
     ]
    },
    {
     "data": {
      "text/plain": [
       "4"
      ]
     },
     "execution_count": 16,
     "metadata": {},
     "output_type": "execute_result"
    }
   ],
   "source": [
    "class Solution(object):\n",
    "    def longestConsecutive(self, nums):\n",
    "        \"\"\"\n",
    "        :type nums: List[int]\n",
    "        :rtype: int\n",
    "        \"\"\"\n",
    "        numset, maxlen = set(nums), 0\n",
    "        \"\"\"\n",
    "        print(numset):\n",
    "        {1, 2, 3, 100, 4, 200}\n",
    "        \"\"\"\n",
    "        for n in set(nums):\n",
    "            currlen = 1\n",
    "\n",
    "            tmp = n + 1\n",
    "            while tmp in set(nums):\n",
    "                currlen += 1\n",
    "                numset.discard(tmp)  # 删去\n",
    "                tmp += 1\n",
    "                print(numset)\n",
    "\n",
    "            tmp = n - 1\n",
    "            while tmp in numset:\n",
    "                currlen += 1\n",
    "                numset.discard(tmp)\n",
    "                tmp -= 1\n",
    "            maxlen = max(maxlen, currlen)\n",
    "        return maxlen\n",
    "nums = [100, 4, 200, 1, 3, 2]\n",
    "init = Solution()\n",
    "init.longestConsecutive(nums)\n"
   ]
  },
  {
   "cell_type": "markdown",
   "metadata": {},
   "source": [
    "#Two Sum\n",
    "\"\"\"\n",
    "1.题目描述\n",
    "给定一个整数数组和一个目标值，找出数组中和为目标值的两个数。\n",
    "你可以假设每个输入只对应一种答案，且同样的元素不能被重复利用\n",
    "示例：\n",
    "给定 nums = [2, 7, 11, 15], target = 9\n",
    "因为 nums[0] + nums[1] = 2 + 7 = 9\n",
    "所以返回 [0, 1]\n",
    "\"\"\""
   ]
  },
  {
   "cell_type": "code",
   "execution_count": 16,
   "metadata": {},
   "outputs": [
    {
     "data": {
      "text/plain": [
       "[0, 5]"
      ]
     },
     "execution_count": 16,
     "metadata": {},
     "output_type": "execute_result"
    }
   ],
   "source": [
    "#方法一\n",
    "class Solution(object):\n",
    "    def twoSum(self, nums, target):\n",
    "        for i in range(len(nums)):\n",
    "                if (target - nums[i]) in nums:\n",
    "                    return [i,nums.index(target - nums[i])]\n",
    "nums = [2,7,11,15,3,4,2]\n",
    "init = Solution()\n",
    "init.twoSum(nums,6)\n"
   ]
  },
  {
   "cell_type": "code",
   "execution_count": 1,
   "metadata": {},
   "outputs": [
    {
     "data": {
      "text/plain": [
       "0"
      ]
     },
     "execution_count": 1,
     "metadata": {},
     "output_type": "execute_result"
    }
   ],
   "source": [
    "nums = [2,7,11,15,3,4,2]\n",
    "nums.index(2)"
   ]
  },
  {
   "cell_type": "code",
   "execution_count": 17,
   "metadata": {},
   "outputs": [
    {
     "name": "stdout",
     "output_type": "stream",
     "text": [
      "{4: 0}\n",
      "{4: 0, -1: 1}\n",
      "{-5: 2, 4: 0, -1: 1}\n",
      "{-5: 2, 4: 0, -1: 1, -9: 3}\n",
      "{3: 4, -5: 2, 4: 0, -1: 1, -9: 3}\n"
     ]
    },
    {
     "data": {
      "text/plain": [
       "[0, 5]"
      ]
     },
     "execution_count": 17,
     "metadata": {},
     "output_type": "execute_result"
    }
   ],
   "source": [
    "#方法二\n",
    "class Solution(object):\n",
    "    def twoSum(self, nums, target):\n",
    "        nums_dict = {}\n",
    "        for i, num in enumerate(nums):\n",
    "            \"\"\"\n",
    "            1. nums_dict[6-2]=0     ---->{4:0}\n",
    "            2. nums_dict[6-7]=1     ---->{-1:1}\n",
    "            3. nums_dict[6-11]=2    ---->{-5:2}\n",
    "            4. nums_dict[6-15]=3    ---->{-9:3}\n",
    "            5. nums_dict[6-3]=4     ---->{3:4}\n",
    "            6. num=4 in nums_dict ---->return [nums_dict[4],5]--->[0,5]\n",
    "            \"\"\"\n",
    "            \n",
    "            if num in nums_dict:\n",
    "                return [nums_dict[num], i]\n",
    "            else:\n",
    "                nums_dict[target - num] = i\n",
    "                print(nums_dict)\n",
    "nums = [2,7,11,15,3,4,2]\n",
    "init = Solution()\n",
    "init.twoSum(nums,6)"
   ]
  },
  {
   "cell_type": "code",
   "execution_count": 12,
   "metadata": {},
   "outputs": [
    {
     "data": {
      "text/plain": [
       "'\\n'"
      ]
     },
     "execution_count": 12,
     "metadata": {},
     "output_type": "execute_result"
    }
   ],
   "source": [
    "#3Sum\n",
    "\"\"\"\n",
    "题意：从一个数组中找到三个数，使这三个数的和为0。\n",
    "有可能存在多组解，也有可能存在重复的解，所以需要去重。\n",
    "比如：num=[-1,0,1,2,-1,-4];那么存在两组解：[[-1,0,1],[-1,-1,2]]，\n",
    "解中的数需要是从小到大排序状态。\n",
    "\"\"\"\n"
   ]
  },
  {
   "cell_type": "code",
   "execution_count": 27,
   "metadata": {},
   "outputs": [
    {
     "name": "stdout",
     "output_type": "stream",
     "text": [
      "{0: 1, 1: 1, 2: 1, 3: 1, -1: 1, -3: 1, -2: 1}\n",
      "1\n"
     ]
    }
   ],
   "source": [
    "nums = [-1, 0, 1, -2, 2, -3, 3]\n",
    "d = {}\n",
    "for val in nums:\n",
    "    d[val] = d.get(val,0) + 1\n",
    "print(d)\n",
    "print(d[val])\n",
    "#     print(d.get(val))"
   ]
  },
  {
   "cell_type": "code",
   "execution_count": 19,
   "metadata": {},
   "outputs": [
    {
     "name": "stdout",
     "output_type": "stream",
     "text": [
      "[[1, -1, 0], [2, -3, 1], [2, -2, 0], [3, -3, 0], [3, -2, -1]]\n"
     ]
    }
   ],
   "source": [
    "class Solution:\n",
    "\n",
    "    def threeSum(self, nums):\n",
    "        d = {}\n",
    "        for val in nums:\n",
    "            d[val] = d.get(val, 0) + 1\n",
    "\n",
    "        pos = [x for x in d if x > 0]\n",
    "        neg = [x for x in d if x < 0]\n",
    "\n",
    "        res = []\n",
    "        if d.get(0, 0) > 2:\n",
    "            res.append([0, 0, 0])\n",
    "\n",
    "        for x in pos:\n",
    "            for y in neg:\n",
    "                s = -(x + y)\n",
    "                if s in d:\n",
    "                    if s == x and d[x] > 1:\n",
    "                        res.append([x, x, y])\n",
    "                    elif s == y and d[y] > 1:\n",
    "                        res.append([x, y, y])\n",
    "                    elif y < s < x:\n",
    "                        res.append([x, y, s])\n",
    "        return res\n",
    "\n",
    "\n",
    "if __name__ == '__main__':\n",
    "    sl_1 = [-1, 0, 1, -2, 2, -3, 3]\n",
    "    result = Solution().threeSum(sl_1)\n",
    "    print(result)\n"
   ]
  },
  {
   "cell_type": "code",
   "execution_count": 33,
   "metadata": {},
   "outputs": [
    {
     "data": {
      "text/plain": [
       "[[-3, 0, 3], [-3, 1, 2], [-2, -1, 3], [-2, 0, 2], [-1, 0, 1]]"
      ]
     },
     "execution_count": 33,
     "metadata": {},
     "output_type": "execute_result"
    }
   ],
   "source": [
    "class Solution:\n",
    "    def threeSum(self, num):\n",
    "        num.sort()\n",
    "        res = []\n",
    "        for i in range(len(num)-2):  # 遍历至倒数第三个，后面两个指针\n",
    "            if i == 0 or num[i] > num[i-1]:\n",
    "                left = i + 1\n",
    "                right = len(num) - 1\n",
    "                while left < right:  # 值得注意的是，这里左右指针将这个数所有情况都遍历加入，所以遇到同样的数直接跳过\n",
    "                    if num[left] + num[right] == -num[i]:\n",
    "                        res.append([num[i], num[left], num[right]])\n",
    "                        left += 1; right -= 1\n",
    "                        while left < right and num[left] == num[left-1]: left +=1\n",
    "                        while left < right and num[right] == num[right+1]: right -= 1\n",
    "                    elif num[left] + num[right] < -num[i]:\n",
    "                        while left < right:\n",
    "                            left += 1\n",
    "                            if num[left] > num[left-1]: break\n",
    "                    else:\n",
    "                        while left < right:\n",
    "                            right -= 1\n",
    "                            if num[right] < num[right+1]: break\n",
    "        return res\n",
    "nums = [-1, 0, 1, -2, 2, -3, 3]\n",
    "init = Solution()\n",
    "init.threeSum(nums)"
   ]
  },
  {
   "cell_type": "code",
   "execution_count": 1,
   "metadata": {},
   "outputs": [],
   "source": [
    "#3Sum Closest\n",
    "#题目大意--->3sum问题的变种，寻找与目标数字最近的那一组数,返回三数之和\n",
    "#一样的遍历每个数，对剩余数组进行双指针扫描。区别仅仅在于当： \n",
    "#sum = A[left] + A[right] \n",
    "#(1) sum = target时直接返回 \n",
    "#(2) sum != target时，在相应移动left/right指针之前，先计算abs(sum-target)的值，并更新结果。\n",
    "\n",
    "#时间复杂度：O(n log n)（排序）+ O（n^2）= O（n^2）\n",
    "\"\"\"\n",
    "例如，给定数组 S = {-1 2 1 -4}, 并且 target = 1.\n",
    "与 target 最接近的三个数的和为 2. (-1 + 2 + 1 = 2).\n",
    "\n",
    "\"\"\"\n"
   ]
  },
  {
   "cell_type": "code",
   "execution_count": 34,
   "metadata": {},
   "outputs": [
    {
     "data": {
      "text/plain": [
       "2"
      ]
     },
     "execution_count": 34,
     "metadata": {},
     "output_type": "execute_result"
    }
   ],
   "source": [
    "class Solution:\n",
    "    def thressSumClosest(self,nums,target):\n",
    "        mindiff = 10000\n",
    "        nums.sort()\n",
    "        res = 0\n",
    "        for i in range(len(nums)):\n",
    "            left = i + 1\n",
    "            right = len(nums) - 1\n",
    "            while left < right:\n",
    "                sum = nums[left] + nums[right] + nums[i]\n",
    "                diff = abs(target - sum)\n",
    "                if diff < mindiff:\n",
    "                    mindiff = diff\n",
    "                    res = sum\n",
    "                if target == sum:\n",
    "                    return sum\n",
    "                elif sum < target:\n",
    "                    left += 1\n",
    "                else:\n",
    "                    right -= 1\n",
    "        return res \n",
    "s = [-1,2,1,-4]\n",
    "init = Solution()\n",
    "init.thressSumClosest(s,3)"
   ]
  },
  {
   "cell_type": "code",
   "execution_count": 18,
   "metadata": {},
   "outputs": [
    {
     "data": {
      "text/plain": [
       "2"
      ]
     },
     "execution_count": 18,
     "metadata": {},
     "output_type": "execute_result"
    }
   ],
   "source": [
    "#4Sum\n",
    "\"\"\"\n",
    "有了前面3sum的经验，本题很容易联想到一种思路是：仍然固定一个数a，\n",
    "使用3sum的算法求 b + c + d = target - a。\n",
    "这样只需要在3sum算法基础上稍微修改，并在最外层加一个循环，\n",
    "时间复杂度为O(n3) O(n^3)O(n \n",
    "3)\n",
    "Given array nums = [1, 0, -1, 0, -2, 2], and target = 0.\n",
    "A solution set is:\n",
    "[\n",
    "[-1, 0, 0, 1],\n",
    "[-2, -1, 1, 2],\n",
    "[-2, 0, 0, 2]\n",
    "]\n",
    "\"\"\""
   ]
  },
  {
   "cell_type": "code",
   "execution_count": 23,
   "metadata": {},
   "outputs": [
    {
     "data": {
      "text/plain": [
       "[[-1, 1, 2, -2], [0, 0, 1, -1], [0, 0, 2, -2]]"
      ]
     },
     "execution_count": 23,
     "metadata": {},
     "output_type": "execute_result"
    }
   ],
   "source": [
    "#方法一\n",
    "class Solution(object):\n",
    "    def threeSum(self, nums, target):\n",
    "        \"\"\"\n",
    "        :type nums: List[int]\n",
    "        :rtype: List[List[int]]\n",
    "        \"\"\"\n",
    "        res = []\n",
    "        nums.sort()\n",
    "        n = len(nums)\n",
    "        for i in range(n-2):\n",
    "            if i > 0 and nums[i] == nums[i-1]: continue\n",
    "            low = i + 1\n",
    "            high = n - 1\n",
    "            while low < high:\n",
    "                cursum = nums[low] + nums[high] + nums[i]\n",
    "                if cursum == target:\n",
    "                    res.append([nums[i], nums[low], nums[high]])\n",
    "                    while low < high and nums[low] == nums[low+1]:\n",
    "                        low = low + 1\n",
    "                    while low < high and nums[high] == nums[high-1]:\n",
    "                        high = high - 1\n",
    "                    high = high - 1\n",
    "                    low = low + 1\n",
    "                elif cursum > target:\n",
    "                    high = high - 1\n",
    "                else:\n",
    "                    low = low + 1\n",
    "        return res\n",
    "\n",
    "\n",
    "    def fourSum(self, nums, target):\n",
    "        \"\"\"\n",
    "        :type nums: List[int]\n",
    "        :type target: int\n",
    "        :rtype: List[List[int]]\n",
    "        \"\"\"\n",
    "        res = []\n",
    "        nums.sort()\n",
    "        for i in range(len(nums) - 3):\n",
    "            if i > 0 and nums[i] == nums[i - 1]: continue\n",
    "            curres = self.threeSum(nums[i+1:], target - nums[i])\n",
    "            if len(curres) > 0:\n",
    "                for curarr in curres:\n",
    "                    curarr.append(nums[i])\n",
    "                    res.append(curarr[:])\n",
    "        return res\n",
    "\n",
    "nums = [1, 0, -1, 0, -2, 2]\n",
    "init = Solution()\n",
    "init.fourSum(nums,0)\n",
    "            "
   ]
  },
  {
   "cell_type": "code",
   "execution_count": 21,
   "metadata": {},
   "outputs": [
    {
     "data": {
      "text/plain": [
       "[[-2, -1, 1, 2], [-2, 0, 0, 2], [-1, 0, 0, 1]]"
      ]
     },
     "execution_count": 21,
     "metadata": {},
     "output_type": "execute_result"
    }
   ],
   "source": [
    "\"\"\"\n",
    "第二种思路是先将数组两两求和保存结果S，在求和结果基础上进行3Sum计算，即求解S1+c+d=target S_1+c+d=target\n",
    "S1+c+d=target。需要注意的是，保存求和结果时也一并保存两数下标，避免重复计算。\n",
    "\n",
    "\"\"\"\n",
    "class Solution(object):\n",
    "    def fourSum(self, nums, target):\n",
    "        from collections import defaultdict\n",
    "        numLen, res, two_sum= len(nums), set(), defaultdict(list)\n",
    "        if numLen < 4: return []\n",
    "        nums.sort()\n",
    "        for p in range(numLen):\n",
    "            for q in range(p + 1, numLen):\n",
    "                two_sum[nums[p] + nums[q]].append((p, q))\n",
    "        for i in range(numLen):\n",
    "            for j in range(i + 1, numLen - 2):\n",
    "                T = target - nums[i] - nums[j]\n",
    "                if T in two_sum:\n",
    "                    for k in two_sum[T]:\n",
    "                        if k[0] > j: res.add((nums[i], nums[j], nums[k[0]], nums[k[1]]))\n",
    "        return [list(i) for i in res]\n",
    "nums = [1, 0, -1, 0, -2, 2]\n",
    "init = Solution()\n",
    "init.fourSum(nums,0)"
   ]
  },
  {
   "cell_type": "code",
   "execution_count": 35,
   "metadata": {},
   "outputs": [
    {
     "data": {
      "text/plain": [
       "[[-2, -1, 1, 2], [-2, 0, 0, 2], [-1, 0, 0, 1]]"
      ]
     },
     "execution_count": 35,
     "metadata": {},
     "output_type": "execute_result"
    }
   ],
   "source": [
    "#方法三\n",
    "class Solution:\n",
    "    def fourSum(self, nums, target):\n",
    "        \"\"\"\n",
    "        :type nums: List[int]\n",
    "        :type target: int\n",
    "        :rtype: List[List[int]]\n",
    "        \"\"\"\n",
    "        # 思路：先将nums数组按照递增排序。然后确定四个数的位置：最左端定第一个数，次左端定第二个数，第三个数从3号位开始，第四个数从最右端开始。\n",
    "        nums.sort()\n",
    "        ret = []\n",
    "        N = len(nums)\n",
    "        for i in range(N-3):\n",
    "            if i and nums[i] == nums[i-1]: # 当两个一样，最终的结果会重复，故要排除掉\n",
    "                continue\n",
    "            for j in range(i+1, N-2):\n",
    "                if j > i+1 and nums[j] == nums[j-1]: # 避免产生重复结果\n",
    "                    continue\n",
    "                l, r = j+1, N-1\n",
    "                while l < r:\n",
    "                    sum4 = nums[i] + nums[j] + nums[l] + nums[r]\n",
    "                    if sum4 == target:\n",
    "                        ret.append([nums[i], nums[j], nums[l], nums[r]])\n",
    "                        l += 1\n",
    "                        while l < r and nums[l] == nums[l-1]: # 避免产生重复结果\n",
    "                                l += 1\n",
    "                    elif sum4 < target:\n",
    "                        l += 1\n",
    "                    else:\n",
    "                        r -= 1\n",
    "        return ret\n",
    "nums = [1, 0, -1, 0, -2, 2]\n",
    "init = Solution()\n",
    "init.fourSum(nums,0)"
   ]
  },
  {
   "cell_type": "markdown",
   "metadata": {},
   "source": [
    "#Remove Element\n",
    "\"\"\"\n",
    "给定一个数组nums和一个值val，你需要原地移除所有数值等于val的元素，返回移除后数组的新长度。\n",
    "不要使用额外的数组空间，你必须在原地修改输入数组并在使用 O(1) 额外空间的条件下完成。\n",
    "元素的顺序可以改变。你不需要考虑数组中超出新长度后面的元素。\n",
    "\"\"\""
   ]
  },
  {
   "cell_type": "code",
   "execution_count": 37,
   "metadata": {},
   "outputs": [
    {
     "data": {
      "text/plain": [
       "3"
      ]
     },
     "execution_count": 37,
     "metadata": {},
     "output_type": "execute_result"
    }
   ],
   "source": [
    "class Solution(object):\n",
    "    def removeElement(self,nums,val):\n",
    "        if len(nums)==0:\n",
    "            return 0\n",
    "        j = 0\n",
    "        for i in range(len(nums)):\n",
    "            if nums[i]!=val:\n",
    "                nums[j] = nums[i]\n",
    "                j=j+1\n",
    "        return j\n",
    "nums = [3,2,2,2,3]\n",
    "init = Solution()\n",
    "init.removeElement(nums,3)"
   ]
  },
  {
   "cell_type": "code",
   "execution_count": 1,
   "metadata": {},
   "outputs": [
    {
     "data": {
      "text/plain": [
       "'\\n题目要求实现所给 list 的下一个字典序，也就是说，给出比当前数字大的最小数字，\\n以 [1，2，3] 为例，比 123 大的数字的最小值为 132 。\\n例子 [1，4，5，5，7，6，4，2]  结果：[1，4，5，6，2，4，5，7]\\n'"
      ]
     },
     "execution_count": 1,
     "metadata": {},
     "output_type": "execute_result"
    }
   ],
   "source": [
    "#Next Permutation\n",
    "\"\"\"\n",
    "题目要求实现所给 list 的下一个字典序，也就是说，给出比当前数字大的最小数字，\n",
    "以 [1，2，3] 为例，比 123 大的数字的最小值为 132 。\n",
    "例子 [1，4，5，5，7，6，4，2]  结果：[1，4，5，6，2，4，5，7]\n",
    "想要实现，我们首先需要倒数找到第一个数字满足 nums[i] < nums[i+1]，\n",
    "这样的话 nums[0] 到 nums[i-1]是不需要改变的，没想明白的可以拿笔画一画，其实想明白这里后面就简单了。\n",
    "这里 i = 3。\n",
    "然后，在 i 之后的位置中找到比 nums[i] 大的最小数字，将其与 nums[i] 交换，确定了 i 位置。\n",
    "这里 应该将 nums[3] 和 nums [5] 交换，list 变为 [1，4，5，6，7，5，4，2]\n",
    "最后，把 i 位置之后的数字正序排序\n",
    "这里将 7，5，4，2 变为 2，4，5，7\n",
    "\"\"\""
   ]
  },
  {
   "cell_type": "code",
   "execution_count": 6,
   "metadata": {},
   "outputs": [
    {
     "name": "stdout",
     "output_type": "stream",
     "text": [
      "[1, 4, 5, 6, 2, 4, 5, 7]\n"
     ]
    }
   ],
   "source": [
    "class Solution(object):\n",
    "    def sortlist(self, nums, right, left):\n",
    "        left += 1\n",
    "        for i in range(right, left):\n",
    "            for j in range(i+1, left):\n",
    "                if nums[i] > nums[j]:\n",
    "                    nums[i], nums[j] = nums[j], nums[i]\n",
    " \n",
    "    def nextPermutation(self, nums):\n",
    "        first = -1\n",
    "        for i in range(-2, -len(nums) - 1, -1):\n",
    "            if nums[i] < nums[i + 1]:\n",
    "                first = i + len(nums)\n",
    "                break\n",
    "        if first != -1:\n",
    "            last = None\n",
    "            for i in range(first, len(nums)):\n",
    "                if nums[i] > nums[first] and last == None:\n",
    "                    last = i\n",
    "                if nums[i] > nums[first] and nums[i] < nums[last]:\n",
    "                    last = i\n",
    "            nums[first], nums[last] = nums[last], nums[first]\n",
    "            self.sortlist(nums, first + 1, len(nums) - 1)\n",
    "        else:\n",
    "            self.sortlist(nums, 0, len(nums) - 1)\n",
    " \n",
    " \n",
    "nums = [1, 4, 5, 5, 7, 6, 4, 2]\n",
    "A = Solution()\n",
    "A.nextPermutation(nums)\n",
    "print(nums)\n"
   ]
  },
  {
   "cell_type": "code",
   "execution_count": null,
   "metadata": {},
   "outputs": [],
   "source": [
    "#Permutation Sequence\n",
    "\"\"\"\n",
    "假设n = 6，k = 400\n",
    "先计算第一位，\n",
    "第一位为6，那么它最少也是第5! * 5 + 1个排列，这是因为第一位为1/2/3/4/5时，都有5!个排列，\n",
    "因此第一位为6时，至少是第5! * 5 + 1个排列（这个排列为612345）。\n",
    "5! * 5 + 1 = 601 > k，所以第一位不可能是6.\n",
    "一个一个地枚举，直到第一位为4时才行，这时，4xxxxx至少为第5! * 3 + 1 = 361个排列。\n",
    "然后计算第二位，\n",
    "与计算第一位时的区别在于，46xxxx至少为第4! * 4 + 1 = 97个排列，这是因为比6小的只有5/3/2/1了。\n",
    "最后可以计算出第二位为2。\n",
    "最终得出第400个排列为425361。\n",
    "https://blog.csdn.net/qq_20141867/article/details/81006643\n",
    "\"\"\""
   ]
  },
  {
   "cell_type": "code",
   "execution_count": 30,
   "metadata": {},
   "outputs": [
    {
     "data": {
      "text/plain": [
       "'213'"
      ]
     },
     "execution_count": 30,
     "metadata": {},
     "output_type": "execute_result"
    }
   ],
   "source": [
    "class Solution:\n",
    "    def getPermutation(self, n, k):\n",
    "        res = ''\n",
    "        k -= 1\n",
    "        fac = 1\n",
    "        for i in range(1, n): \n",
    "            fac *= i\n",
    "#             print(fac)#1,2,6,24,120\n",
    "        num = [1, 2, 3, 4, 5, 6, 7, 8, 9]\n",
    "        for i in reversed(range(n)):\n",
    "#             print(i)#5,4,3,2,1,0\n",
    "            curr = num[int(k/fac)]\n",
    "#             print(curr)\n",
    "            res += str(curr)\n",
    "            num.remove(curr)\n",
    "            if i !=0:\n",
    "                k %= fac\n",
    "                fac /= i\n",
    "        return res\n",
    "init = Solution()\n",
    "init.getPermutation(3,3)"
   ]
  },
  {
   "cell_type": "code",
   "execution_count": null,
   "metadata": {},
   "outputs": [],
   "source": []
  }
 ],
 "metadata": {
  "kernelspec": {
   "display_name": "Python 3",
   "language": "python",
   "name": "python3"
  },
  "language_info": {
   "codemirror_mode": {
    "name": "ipython",
    "version": 3
   },
   "file_extension": ".py",
   "mimetype": "text/x-python",
   "name": "python",
   "nbconvert_exporter": "python",
   "pygments_lexer": "ipython3",
   "version": "3.5.2"
  }
 },
 "nbformat": 4,
 "nbformat_minor": 2
}
