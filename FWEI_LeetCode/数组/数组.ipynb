{
 "cells": [
  {
   "cell_type": "code",
   "execution_count": 1,
   "metadata": {},
   "outputs": [
    {
     "data": {
      "text/plain": [
       "4"
      ]
     },
     "execution_count": 1,
     "metadata": {},
     "output_type": "execute_result"
    }
   ],
   "source": [
    "## 26. Remove Duplicates from Sorted Array题目描述：给定一个排序数组，移除数组中重复的元素，空间复杂度要求为O(1)\n",
    "##题目描述：给定一个排序数组，移除数组中重复的元素，空间复杂度要求为O(1)\n",
    "class Solution(object):\n",
    "    def removeDuplicates(self, nums):\n",
    "        \"\"\"\n",
    "        :type nums: List[int]\n",
    "        :rtype: int\n",
    "        \"\"\"\n",
    "        #此题因为不允许开辟额外空间，所以不推荐使用删除重复元素。而选择将不重复元素放在原列表开头，返回新列表长度，截取原列表即可。\n",
    "        if len(nums) == 0:\n",
    "            return 0\n",
    "        j = 0\n",
    "        len_n = len(nums)\n",
    "        for i in range(len_n):\n",
    "            if nums[j] != nums[i]:\n",
    "                nums[j + 1] = nums[i]\n",
    "                j += 1\n",
    "        return j + 1\n",
    "nums = [1,1,3,4,5,5]\n",
    "init = Solution()\n",
    "init.removeDuplicates(nums)"
   ]
  },
  {
   "cell_type": "code",
   "execution_count": 2,
   "metadata": {},
   "outputs": [
    {
     "data": {
      "text/plain": [
       "5"
      ]
     },
     "execution_count": 2,
     "metadata": {},
     "output_type": "execute_result"
    }
   ],
   "source": [
    "# 80. Remove Duplicates from Sorted Array II \n",
    "#题目描述：与Remove Duplicates from Sorted Array基本是一样的，只不过这里允许最多重复的数字为2\n",
    "# 给定一个排序数组，你需要在原地删除重复出现的元素，使得每个元素最多出现两次，返回移除后数组的新长度。\n",
    "\n",
    "# 不要使用额外的数组空间，你必须在原地修改输入数组并在使用 O(1) 额外空间的条件下完成。\n",
    "\n",
    "# 示例 1:\n",
    "\n",
    "# 给定 nums = [1,1,1,2,2,3],\n",
    "\n",
    "# 函数应返回新长度 length = 5, 并且原数组的前五个元素被修改为 1, 1, 2, 2, 3 。\n",
    "\n",
    "# 你不需要考虑数组中超出新长度后面的元素。\n",
    "\n",
    "class Solution(object):\n",
    "    def removeDuplicates(self, nums):\n",
    "        if nums == []:\n",
    "            return 0\n",
    "        if len(nums) <= 2:\n",
    "            return len(nums)\n",
    "        i = 2\n",
    "        while i < len(nums):           \n",
    "            if nums[i] == nums[i-1] == nums[i-2]:\n",
    "                nums.pop(i)\n",
    "            else:\n",
    "                i += 1\n",
    "        return i\n",
    "init = Solution()\n",
    "nums = [1,1,2,2,2,3]\n",
    "init.removeDuplicates(nums)"
   ]
  },
  {
   "cell_type": "code",
   "execution_count": 11,
   "metadata": {},
   "outputs": [
    {
     "name": "stdout",
     "output_type": "stream",
     "text": [
      "r : 3\n"
     ]
    },
    {
     "data": {
      "text/plain": [
       "1"
      ]
     },
     "execution_count": 11,
     "metadata": {},
     "output_type": "execute_result"
    }
   ],
   "source": [
    "#DAY02-补--2019-9-19\n",
    "#33-Search in Rotated Sorted Array\n",
    "#二分搜索法的关键在于获得了中间数后，判断下面要搜索左半段还是右半段，\n",
    "#如果中间的数小于最右边的数，则右半段是有序的，若中间数大于最右边数，\n",
    "#则左半段是有序的，我们只要在有序的半段里用首尾两个数组来判断目标值是否在这一区域内，这样就可以确定保留哪半边了。\n",
    "class Solution:\n",
    "    def search(self, nums,target):\n",
    "        \n",
    "        l , r = 0,len(nums) - 1\n",
    "        while l <= r:\n",
    "            mid = (l + r)//2\n",
    "            if nums[mid] == target:\n",
    "                return mid\n",
    "            if nums[mid] >= nums[l]:\n",
    "                if target >= nums[l] and target <= nums[mid]:\n",
    "                    \n",
    "                    r = mid\n",
    "                    print(\"r :\",r)\n",
    "                else:\n",
    "                    l = mid + 1\n",
    "            if nums[mid] <= nums[r]:\n",
    "                if target >= nums[mid] and target <= nums[r]:\n",
    "                    l = mid + 1\n",
    "                else:\n",
    "                    r = mid\n",
    "        return -1\n",
    "init = Solution()\n",
    "nums1 = [0,1,2,4,5,6,7]\n",
    "nums = [4,5,6,7,0,1,2]\n",
    "target = 1\n",
    "init.search(nums1,target)"
   ]
  },
  {
   "cell_type": "markdown",
   "metadata": {},
   "source": [
    "#81-Search in Rotated Sorted Array II\n",
    "假设按照升序排序的数组在预先未知的某个点上进行了旋转。\n",
    "( 例如，数组 [0,0,1,2,2,5,6] 可能变为 [2,5,6,0,0,1,2] )。\n",
    "编写一个函数来判断给定的目标值是否存在于数组中。若存在返回 true，否则返回 false。\n",
    "\n"
   ]
  },
  {
   "cell_type": "code",
   "execution_count": 17,
   "metadata": {},
   "outputs": [
    {
     "data": {
      "text/plain": [
       "True"
      ]
     },
     "execution_count": 17,
     "metadata": {},
     "output_type": "execute_result"
    }
   ],
   "source": [
    "class Solution:\n",
    "     def search(self, nums, target):\n",
    "        start = 0\n",
    "        end = len(nums) - 1\n",
    "        while start <= end:\n",
    "            mid = (start + end)//2\n",
    "            if target == nums[mid]:\n",
    "                return True\n",
    "            # 递增的情况\n",
    "            elif nums[mid] < target <= nums[end]:\n",
    "                start = start + 1\n",
    "            elif nums[start] <= target < nums[mid]:\n",
    "                end = end -1\n",
    "            # 先增后减或先减后增的情况\n",
    "            elif target > nums[mid]:\n",
    "                end = end - 1\n",
    "            elif target < nums[mid]:\n",
    "                start = start + 1\n",
    "        return False\n",
    "nums = [2,5,6,0,0,1,2]\n",
    "target = 0\n",
    "init = Solution()\n",
    "init.search(nums,target)"
   ]
  },
  {
   "cell_type": "markdown",
   "metadata": {},
   "source": [
    "#day3-2019-9-20补\n",
    "#4.Median of Two Sorted Arrays\n",
    "题目：有两个排序的数组nums1和nums2，长度分别为m和n。找到两个排序数组的中位数。总运行时间复杂度应为O（log（m + n））。可以假设nums1和nums2  不能都为空。\n",
    "例：nums1 = [1,3] nums2 = [2]  中位数是2.0；nums1 = [1,2]  nums2 = [3,4]  中位数为（2 + 3）/ 2 = 2.5"
   ]
  },
  {
   "cell_type": "code",
   "execution_count": 4,
   "metadata": {},
   "outputs": [
    {
     "data": {
      "text/plain": [
       "2.5"
      ]
     },
     "execution_count": 4,
     "metadata": {},
     "output_type": "execute_result"
    }
   ],
   "source": [
    "class Solution:\n",
    "    def findMedianSortedArrays(self, nums1, nums2):\n",
    "        m,n=len(nums1),len(nums2)\n",
    "        list_merge=sorted(nums1+nums2)\n",
    "        median_i=int((m+n)/2)\n",
    "        if (m+n)%2==0:\n",
    "             return (list_merge[median_i-1]+list_merge[median_i])/2\n",
    "        else:\n",
    "             return float(list_merge[median_i])\n",
    "init = Solution()\n",
    "nums1 = [1,3]\n",
    "nums2 = [2,4]\n",
    "init.findMedianSortedArrays(nums1,nums2)"
   ]
  },
  {
   "cell_type": "markdown",
   "metadata": {},
   "source": [
    "#128-Longest Consecutive Sequence\n",
    "给定一组无序的整数，找出其中连续整数的最长长度。 \n",
    "(1)\n",
    "注意点： 算法时间复杂度为O(n)\n"
   ]
  },
  {
   "cell_type": "code",
   "execution_count": 16,
   "metadata": {},
   "outputs": [
    {
     "name": "stdout",
     "output_type": "stream",
     "text": [
      "{1, 3, 100, 4, 200}\n",
      "{1, 100, 4, 200}\n",
      "{1, 100, 200}\n",
      "{1, 100, 200}\n",
      "{1, 100, 200}\n",
      "{100, 200}\n"
     ]
    },
    {
     "data": {
      "text/plain": [
       "4"
      ]
     },
     "execution_count": 16,
     "metadata": {},
     "output_type": "execute_result"
    }
   ],
   "source": [
    "class Solution(object):\n",
    "    def longestConsecutive(self, nums):\n",
    "        \"\"\"\n",
    "        :type nums: List[int]\n",
    "        :rtype: int\n",
    "        \"\"\"\n",
    "        numset, maxlen = set(nums), 0\n",
    "        \"\"\"\n",
    "        print(numset):\n",
    "        {1, 2, 3, 100, 4, 200}\n",
    "        \"\"\"\n",
    "        for n in set(nums):\n",
    "            currlen = 1\n",
    "\n",
    "            tmp = n + 1\n",
    "            while tmp in set(nums):\n",
    "                currlen += 1\n",
    "                numset.discard(tmp)  # 删去\n",
    "                tmp += 1\n",
    "                print(numset)\n",
    "\n",
    "            tmp = n - 1\n",
    "            while tmp in numset:\n",
    "                currlen += 1\n",
    "                numset.discard(tmp)\n",
    "                tmp -= 1\n",
    "            maxlen = max(maxlen, currlen)\n",
    "        return maxlen\n",
    "nums = [100, 4, 200, 1, 3, 2]\n",
    "init = Solution()\n",
    "init.longestConsecutive(nums)\n"
   ]
  },
  {
   "cell_type": "markdown",
   "metadata": {},
   "source": [
    "#Two Sum\n",
    "\"\"\"\n",
    "1.题目描述\n",
    "给定一个整数数组和一个目标值，找出数组中和为目标值的两个数。\n",
    "你可以假设每个输入只对应一种答案，且同样的元素不能被重复利用\n",
    "示例：\n",
    "给定 nums = [2, 7, 11, 15], target = 9\n",
    "因为 nums[0] + nums[1] = 2 + 7 = 9\n",
    "所以返回 [0, 1]\n",
    "\"\"\""
   ]
  },
  {
   "cell_type": "code",
   "execution_count": 4,
   "metadata": {},
   "outputs": [
    {
     "data": {
      "text/plain": [
       "[0, 5]"
      ]
     },
     "execution_count": 4,
     "metadata": {},
     "output_type": "execute_result"
    }
   ],
   "source": [
    "class Solution(object):\n",
    "    def twoSum(self, nums, target):\n",
    "        for i in range(len(nums)):\n",
    "                if (target - nums[i]) in nums:\n",
    "                    return [i,nums.index(target - nums[i])]\n",
    "nums = [2,7,11,15,3,4,2]\n",
    "init = Solution()\n",
    "init.twoSum(nums,6)\n"
   ]
  },
  {
   "cell_type": "code",
   "execution_count": 11,
   "metadata": {},
   "outputs": [
    {
     "name": "stdout",
     "output_type": "stream",
     "text": [
      "{}\n",
      "{4: 0}\n",
      "{4: 0, -1: 1}\n",
      "{-5: 2, 4: 0, -1: 1}\n",
      "{-5: 2, 4: 0, -1: 1, -9: 3}\n",
      "{3: 4, -5: 2, 4: 0, -1: 1, -9: 3}\n"
     ]
    },
    {
     "data": {
      "text/plain": [
       "[0, 5]"
      ]
     },
     "execution_count": 11,
     "metadata": {},
     "output_type": "execute_result"
    }
   ],
   "source": [
    "class Solution(object):\n",
    "    def twoSum(self, nums, target):\n",
    "        nums_dict = {}\n",
    "        for i, num in enumerate(nums):\n",
    "            print(nums_dict)\n",
    "            if num in nums_dict:\n",
    "                return [nums_dict[num], i]\n",
    "            else:\n",
    "                nums_dict[target - num] = i\n",
    "nums = [2,7,11,15,3,4,2]\n",
    "init = Solution()\n",
    "init.twoSum(nums,6)"
   ]
  },
  {
   "cell_type": "code",
   "execution_count": 12,
   "metadata": {},
   "outputs": [
    {
     "data": {
      "text/plain": [
       "'\\n'"
      ]
     },
     "execution_count": 12,
     "metadata": {},
     "output_type": "execute_result"
    }
   ],
   "source": [
    "#3Sum\n",
    "\"\"\"\n",
    "题意：从一个数组中找到三个数，使这三个数的和为0。\n",
    "有可能存在多组解，也有可能存在重复的解，所以需要去重。\n",
    "比如：num=[-1,0,1,2,-1,-4];那么存在两组解：[[-1,0,1],[-1,-1,2]]，\n",
    "解中的数需要是从小到大排序状态。\n",
    "\"\"\"\n"
   ]
  },
  {
   "cell_type": "code",
   "execution_count": 14,
   "metadata": {},
   "outputs": [
    {
     "name": "stdout",
     "output_type": "stream",
     "text": [
      "[]\n"
     ]
    },
    {
     "data": {
      "text/plain": [
       "[]"
      ]
     },
     "execution_count": 14,
     "metadata": {},
     "output_type": "execute_result"
    }
   ],
   "source": [
    "class Solution:\n",
    "    def threeSum(self, num):\n",
    "        num.sort()\n",
    "        res = []\n",
    "        for i in range(len(num)-2):\n",
    "            if i == 0 or num[i] > num[i-1]:\n",
    "                left = i + 1; right = len(num) - 1\n",
    "                while left < right:\n",
    "                    if num[left] + num[right] == -num[i]:\n",
    "                        res.append([num[i], num[left], num[right]])\n",
    "                        left += 1; right -= 1\n",
    "                        while left < right and num[left] == num[left-1]: left +=1\n",
    "                        while left < right and num[right] == num[right+1]: right -= 1\n",
    "                    elif num[left] + num[right] < -num[i]:\n",
    "                        while left < right:\n",
    "                            left += 1\n",
    "                            if num[left] > num[left-1]: break\n",
    "                    else:\n",
    "                        while left < right:\n",
    "                            right -= 1\n",
    "                            if num[right] < num[right+1]: break\n",
    "                            \n",
    "        return res\n",
    "num=[-1,0,1,2,-1,-4]\n",
    "init = Solution()\n",
    "init.threeSum(nums)"
   ]
  },
  {
   "cell_type": "code",
   "execution_count": null,
   "metadata": {},
   "outputs": [],
   "source": []
  }
 ],
 "metadata": {
  "kernelspec": {
   "display_name": "Python 3",
   "language": "python",
   "name": "python3"
  },
  "language_info": {
   "codemirror_mode": {
    "name": "ipython",
    "version": 3
   },
   "file_extension": ".py",
   "mimetype": "text/x-python",
   "name": "python",
   "nbconvert_exporter": "python",
   "pygments_lexer": "ipython3",
   "version": "3.5.2"
  }
 },
 "nbformat": 4,
 "nbformat_minor": 2
}
