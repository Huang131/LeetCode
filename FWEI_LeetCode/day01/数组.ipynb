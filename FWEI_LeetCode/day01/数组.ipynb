{
 "cells": [
  {
   "cell_type": "code",
   "execution_count": 24,
   "metadata": {},
   "outputs": [
    {
     "data": {
      "text/plain": [
       "4"
      ]
     },
     "execution_count": 24,
     "metadata": {},
     "output_type": "execute_result"
    }
   ],
   "source": [
    "## 26. Remove Duplicates from Sorted Array题目描述：给定一个排序数组，移除数组中重复的元素，空间复杂度要求为O(1)\n",
    "##题目描述：给定一个排序数组，移除数组中重复的元素，空间复杂度要求为O(1)\n",
    "class Solution(object):\n",
    "    def removeDuplicates(self, nums):\n",
    "        \"\"\"\n",
    "        :type nums: List[int]\n",
    "        :rtype: int\n",
    "        \"\"\"\n",
    "        #此题因为不允许开辟额外空间，所以不推荐使用删除重复元素。而选择将不重复元素放在原列表开头，返回新列表长度，截取原列表即可。\n",
    "        if len(nums) == 0:\n",
    "            return 0\n",
    "        j = 0\n",
    "        len_n = len(nums)\n",
    "        for i in range(len_n):\n",
    "            if nums[j] != nums[i]:\n",
    "                nums[j + 1] = nums[i]\n",
    "                j += 1\n",
    "        return j + 1\n",
    "nums = [1,1,3,4,5,5]\n",
    "init = Solution()\n",
    "init.removeDuplicates(nums)"
   ]
  },
  {
   "cell_type": "code",
   "execution_count": 25,
   "metadata": {},
   "outputs": [
    {
     "data": {
      "text/plain": [
       "5"
      ]
     },
     "execution_count": 25,
     "metadata": {},
     "output_type": "execute_result"
    }
   ],
   "source": [
    "# 80. Remove Duplicates from Sorted Array II \n",
    "#题目描述：与Remove Duplicates from Sorted Array基本是一样的，只不过这里允许最多重复的数字为2\n",
    "# 给定一个排序数组，你需要在原地删除重复出现的元素，使得每个元素最多出现两次，返回移除后数组的新长度。\n",
    "\n",
    "# 不要使用额外的数组空间，你必须在原地修改输入数组并在使用 O(1) 额外空间的条件下完成。\n",
    "\n",
    "# 示例 1:\n",
    "\n",
    "# 给定 nums = [1,1,1,2,2,3],\n",
    "\n",
    "# 函数应返回新长度 length = 5, 并且原数组的前五个元素被修改为 1, 1, 2, 2, 3 。\n",
    "\n",
    "# 你不需要考虑数组中超出新长度后面的元素。\n",
    "\n",
    "class Solution(object):\n",
    "    def removeDuplicates(self, nums):\n",
    "        if nums == []:\n",
    "            return 0\n",
    "        if len(nums) <= 2:\n",
    "            return len(nums)\n",
    "        i = 2\n",
    "        while i < len(nums):           \n",
    "            if nums[i] == nums[i-1] == nums[i-2]:\n",
    "                nums.pop(i)\n",
    "            else:\n",
    "                i += 1\n",
    "        return i\n",
    "init = Solution()\n",
    "nums = [1,1,2,2,2,3]\n",
    "init.removeDuplicates(nums)"
   ]
  },
  {
   "cell_type": "code",
   "execution_count": null,
   "metadata": {},
   "outputs": [],
   "source": []
  }
 ],
 "metadata": {
  "kernelspec": {
   "display_name": "Python 3",
   "language": "python",
   "name": "python3"
  },
  "language_info": {
   "codemirror_mode": {
    "name": "ipython",
    "version": 3
   },
   "file_extension": ".py",
   "mimetype": "text/x-python",
   "name": "python",
   "nbconvert_exporter": "python",
   "pygments_lexer": "ipython3",
   "version": "3.5.2"
  }
 },
 "nbformat": 4,
 "nbformat_minor": 2
}
